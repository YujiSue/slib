{
  "nbformat": 4,
  "nbformat_minor": 0,
  "metadata": {
    "colab": {
      "name": "C++OnGoogleColab.ipynb",
      "provenance": [],
      "collapsed_sections": [
        "XEOoPp-s-K_c",
        "68R1rgzvlqxO"
      ],
      "mount_file_id": "1R1bV1GXD0XzRw-5X4AYE_ZaduCM4RgHT",
      "authorship_tag": "ABX9TyMcG2D0nQsdgSeIO00jFrm4",
      "include_colab_link": true
    },
    "kernelspec": {
      "name": "python3",
      "display_name": "Python 3"
    }
  },
  "cells": [
    {
      "cell_type": "markdown",
      "metadata": {
        "id": "view-in-github",
        "colab_type": "text"
      },
      "source": [
        "<a href=\"https://colab.research.google.com/github/YujiSue/slib/blob/master/C%2B%2BOnGoogleColab.ipynb\" target=\"_parent\"><img src=\"https://colab.research.google.com/assets/colab-badge.svg\" alt=\"Open In Colab\"/></a>"
      ]
    },
    {
      "cell_type": "markdown",
      "metadata": {
        "id": "qCr2AZY7OzZF"
      },
      "source": [
        "# 1. Install slib \n",
        "If this is the first time to use this notebook, please build the libraries by running the [section 1-1](#section_11).  \n",
        "Otherwise, copy the built libraries from your GoogleDrive by runnin the [section 1-2](#section_12).\n"
      ]
    },
    {
      "cell_type": "markdown",
      "metadata": {
        "id": "e2YRBy9aatsF"
      },
      "source": [
        "<a id='section_11'></a>\r\n",
        "## 1-1. Build libraries"
      ]
    },
    {
      "cell_type": "code",
      "metadata": {
        "id": "tlB_pq-T9Uxq"
      },
      "source": [
        "!wget https://raw.githubusercontent.com/YujiSue/slib/master/include/sconfig.h\n",
        "!wget https://raw.githubusercontent.com/YujiSue/Lemegeton/master/Goetia.h\n",
        "!wget https://raw.githubusercontent.com/YujiSue/Lemegeton/master/Goetia.cpp\n",
        "!g++ -std=c++11 -Wall -O2 -o ./Goetia Goetia.cpp\n",
        "import os\n",
        "os.environ['PATH'] += ':/usr/local/lib' \n",
        "os.environ['LD_LIBRARY_PATH'] += ':/usr/local/lib'\n",
        "#@title ## Markdown\n",
        "#@markdown Select options to install slib.\n",
        "SharedLibrary = True #@param {type:\"boolean\"}\n",
        "Install_LibSobj = True #@param {type:\"boolean\"}\n",
        "Install_LibSapp = True #@param {type:\"boolean\"}\n",
        "Install_LibSbioinfo = True #@param {type:\"boolean\"}\n",
        "options = ''\n",
        "if(SharedLibrary):\n",
        "  options+='s'\n",
        "if(Install_LibSobj):\n",
        "  options+='O'\n",
        "if(Install_LibSapp):\n",
        "  options+='A'\n",
        "if(Install_LibSbioinfo):\n",
        "  options+='I'\n",
        "os.system('./Goetia -'+options)"
      ],
      "execution_count": null,
      "outputs": []
    },
    {
      "cell_type": "markdown",
      "metadata": {
        "id": "5UeMtEpma9M_"
      },
      "source": [
        "### (Optional)Save the libraries on your GoogleDrive\r\n",
        "\\* The installation of the library will be completed faster for the next time you use this notebook.  \r\n",
        "\\** A directory, named \"slib\", will be generated on your GoogleDrive root directory.  \r\n",
        "\\*** The shared libraries require about 5MB and header files require about 2.5MB. "
      ]
    },
    {
      "cell_type": "code",
      "metadata": {
        "id": "s0T2zX9I8Far"
      },
      "source": [
        "from google.colab import drive\n",
        "drive.mount('/content/drive')"
      ],
      "execution_count": null,
      "outputs": []
    },
    {
      "cell_type": "code",
      "metadata": {
        "id": "8UIepNLCTVNP"
      },
      "source": [
        "!mkdir -p drive/MyDrive/slib/\r\n",
        "!mkdir -p drive/MyDrive/slib/lib\r\n",
        "!mkdir -p drive/MyDrive/slib/include\r\n",
        "!cp -f /usr/local/lib/libsobj.so drive/MyDrive/slib/lib\r\n",
        "!cp -f /usr/local/lib/libsobj.a drive/MyDrive/slib/lib\r\n",
        "!cp -f /usr/local/lib/libsapp.so drive/MyDrive/slib/lib\r\n",
        "!cp -f /usr/local/lib/libsapp.a drive/MyDrive/slib/lib\r\n",
        "!cp -f /usr/local/lib/libsbioinfo.so drive/MyDrive/slib/lib\r\n",
        "!cp -f /usr/local/lib/libsbioinfo.a drive/MyDrive/slib/lib\r\n",
        "!cp -fr /usr/local/include/slib/* drive/MyDrive/slib/include"
      ],
      "execution_count": 3,
      "outputs": []
    },
    {
      "cell_type": "markdown",
      "metadata": {
        "id": "xJtnBn_BV8nn"
      },
      "source": [
        "## 1-2. Download the libraries\r\n",
        "<a id='section_11'></a>\r\n"
      ]
    },
    {
      "cell_type": "code",
      "metadata": {
        "id": "9YDWAohbWzRx"
      },
      "source": [
        "from google.colab import drive\n",
        "drive.mount('/content/drive')"
      ],
      "execution_count": null,
      "outputs": []
    },
    {
      "cell_type": "code",
      "metadata": {
        "id": "Y7cTH69gW2S3"
      },
      "source": [
        "!mkdir -p /usr/local/include/slib\r\n",
        "!cp -f drive/MyDrive/slib/lib/* /usr/local/lib\r\n",
        "!cp -fr drive/MyDrive/slib/include/* /usr/local/include/slib\r\n",
        "import os\r\n",
        "os.environ['PATH'] += ':/usr/local/lib' \r\n",
        "os.environ['LD_LIBRARY_PATH'] += ':/usr/local/lib'"
      ],
      "execution_count": 6,
      "outputs": []
    },
    {
      "cell_type": "markdown",
      "metadata": {
        "id": "XEOoPp-s-K_c"
      },
      "source": [
        "# 2. C++ sample codes"
      ]
    },
    {
      "cell_type": "code",
      "metadata": {
        "id": "p7m5A_ofZ-5e"
      },
      "source": [
        "%%writefile .sample.txt\n",
        "\n",
        "SPrint(String(\"=\")*25, \"  Sample  \", String(\"=\")*25);\n",
        "SPrint(String(\"-\")*60);\n",
        "SPrint(\"Numeric object\");\n",
        "SPrint(String(\"-\")*60);\n",
        "\n",
        "sobj num1 = 10;  // Integer number\n",
        "SPrint(\"num1 = \", num1);\n",
        "\n",
        "sobj num2 = 3.14; // Real number\n",
        "SPrint(\"num2 = \", num2);\n",
        "\n",
        "sobj num3 = true; //Boolean\n",
        "SPrint(\"num3 = \", num3);\n",
        "\n",
        "sobj num4 = sfrac(-1, 3); //Fraction\n",
        "/*Or*/ //sobj num4 = sfrac(\"-1/3\");\n",
        "/*Or*/ //sobj num4 = sfrac(-0.3333333333333);\n",
        "SPrint(\"num4 = \", num4);\n",
        "\n",
        "sobj num5 = scomp(0.5, 0.5); //Complex\n",
        "/*Or*/ //sobj num5 = comp(\"0.5+0.5i\");\n",
        "SPrint(\"num5 = \", num5);\n",
        "\n",
        "SPrint(String(\"-\")*60);\n",
        "SPrint(NEW_LINE);\n",
        "\n",
        "SPrint(String(\"-\")*60);\n",
        "SPrint(\"Basic calculation\");\n",
        "SPrint(String(\"-\")*60);\n",
        "\n",
        "SPrint(\"-num1 = \", -num1);\n",
        "SPrint(\"increment num1 = \", ++num1);\n",
        "SPrint(\"decrement num1 = \", --num1);\n",
        "SPrint(\"num1 + num2 = \", num1 + num2);\n",
        "SPrint(\"num1 - num2 = \", num1 - num2);\n",
        "SPrint(\"num2 * num4 = \", num2 * num4);\n",
        "SPrint(\"num2 / num4 = \", num2 / num4);\n",
        "SPrint(\"|\", num5, \"| = \", smath::absolute(num5));\n",
        "SPrint(\"...\");\n",
        "\n",
        "SPrint(String(\"-\")*60);\n",
        "SPrint(NEW_LINE);\n",
        "\n",
        "SPrint(String(\"-\")*60);\n",
        "SPrint(\"String object\");\n",
        "SPrint(String(\"-\")*60);\n",
        "\n",
        "sobj str1 = \"abc\";\n",
        "SPrint(\"str1 = \", str1);\n",
        "\n",
        "sobj str2 = \"xyz\";\n",
        "SPrint(\"str2 = \", str2);\n",
        "\n",
        "SPrint(\"str1 + str2 = \", str1+str2);\n",
        "\n",
        "SPrint(\"str1 * 3 = \", str1*3);\n",
        "\n",
        "SPrint(String(\"- \")*30);\n",
        "SPrint(\"Japanese example\");\n",
        "SPrint(String(\"- \")*30);\n",
        "sobj str3 = u8\"あいうえお\";\n",
        "SPrint(u8\"「\", str3, u8\"」の３番目の文字は「\", str3[2], u8\"」\");\n",
        "SPrint(String(\"-\")*60);\n",
        "SPrint(NEW_LINE);\n",
        "\n",
        "SPrint(String(\"-\")*60);\n",
        "SPrint(\"String function\");\n",
        "SPrint(String(\"-\")*60);\n",
        "\n",
        "SPrint(\"Lower case of ABC => \", String::lower(\"ABC\"));\n",
        "SPrint(\"Upper case of xyz => \", String::upper(\"xyz\"));\n",
        "SPrint(\"Full width string of 123 => \", String::wide(\"123\"));\n",
        "SPrint(u8\"Half width string of ７８９ => \", String::narrow(u8\"７８９\"));\n",
        "sobj str4 = \"1,2,3,4,5\";\n",
        "SPrint(\"CSV: \", str4);\n",
        "sobj list = str4.split(\",\");\n",
        "SPrint(\"Split:\");\n",
        "sforeachi(list) SPrint(SPACE, i, \"th: \", list[i]);\n",
        "SPrint(\"Conversion to TSV\");\n",
        "SPrint(\">\", str4.replace(\",\", TAB));\n",
        "\n",
        "SPrint(String(\"-\")*60);\n",
        "SPrint(NEW_LINE);\n",
        "\n",
        "SPrint(String(\"-\")*60);\n",
        "SPrint(\"Text object\");\n",
        "SPrint(String(\"-\")*60);\n",
        "sobj text1 = SColorText(\"red\", \"This is a colored text.\");\n",
        "sobj text2 = SColorText(\"yellow\", \"This is a colored text.\");\n",
        "sobj text3 = SColorText(\"green\", \"This is a colored text.\");\n",
        "sobj text4 = SColorText(\"blue\", \"This is a colored text.\");\n",
        "sobj text5 = SBoldText(\"This is a bold text.\");\n",
        "sobj text6 = SItalicText(\"This is a italic text.\");\n",
        "SPrint(text1);\n",
        "SPrint(text2);\n",
        "SPrint(text3);\n",
        "SPrint(text4);\n",
        "SPrint(text5);\n",
        "SPrint(text6);\n",
        "\n",
        "SPrint(String(\"-\")*60);\n",
        "SPrint(NEW_LINE);\n",
        "\n",
        "SPrint(String(\"-\")*60);\n",
        "SPrint(\"Date object\");\n",
        "SPrint(String(\"-\")*60);\n",
        "sobj date1 = SDate::utc();\n",
        "SPrint(\"UTC Time : \", date1);\n",
        "sobj date2 = SDate();\n",
        "SPrint(\"Local Time : \", date2);\n",
        "SPrint(\"Tommorow is : \", date2 + Time(\"1D\"));\n",
        "SPrint(\"Last month is : \", date2 - Time(\"1M\"));\n",
        "sobj date3 = SDate(\"2020/10/10\");\n",
        "sobj date4 = SDate(\"1999/11/11\");\n",
        "SPrint(\"Data3 : \", date3);\n",
        "SPrint(\"Data4 : \", date4);\n",
        "SPrint(\"Date3 - Date4 = \", date3 - date4);\n",
        "SPrint(String(\"- \")*30);\n",
        "SPrint(\"Japanese example\");\n",
        "SPrint(String(\"- \")*30);\n",
        "SPrint(u8\"Today in Japanese : \", date2.toString(sstyle::YMDHMS_J));\n",
        "sobj date5 = SDate(u8\"平成元年１月８日\");\n",
        "SPrint(u8\"平成元年１月８日 = \", date5.toString(sstyle::YMD));\n",
        "SPrint(String(\"-\")*60);\n",
        "SPrint(NEW_LINE);\n",
        "\n",
        "SPrint(String(\"-\")*60);\n",
        "SPrint(\"Data object\");\n",
        "SPrint(String(\"-\")*60);\n",
        "ubytearray _dat = {1,2,3,4,5,6,7,8,9,10,20,30,40,50,100,200,255};\n",
        "sobj data1 = SData(_dat.size(), _dat.ptr());\n",
        "SPrint(\"data1 in binary : \", data1.toString(\"binary\"));\n",
        "SPrint(\"data1 in oct : \", data1.toString(\"oct\"));\n",
        "SPrint(\"data1 in hex : \", data1.toString(\"hex\"));\n",
        "SPrint(\"data1 in base64 : \", data1.toString(\"base64\"));\n",
        "SPrint(String(\"-\")*60);\n",
        "SPrint(NEW_LINE);\n",
        "\n",
        "\n",
        "SPrint(String(\"-\")*60);\n",
        "SPrint(\"Array object\");\n",
        "SPrint(String(\"-\")*60);\n",
        "\n",
        "sobj array1 = {10, 3.14, \"abc\", {\"xyz\", 2.71828, true}};\n",
        "SPrint(\"array1 : \", array1);\n",
        "SPrint(\"Find 3.14 : \", array1.find(3.14));\n",
        "sobj array2 = {\n",
        "    {kv(\"name\", \"Yamada\"), kv(\"age\", 20)}, \n",
        "    {kv(\"name\", \"Suzuki\"), kv(\"age\", 40)}, \n",
        "    {kv(\"name\", \"Sato\"), kv(\"age\", 30)}\n",
        "};\n",
        "SPrint(\"array2 : \", array2);\n",
        "array2.sortBy(\"name\");\n",
        "SPrint(\"Sort by name: \", array2);\n",
        "array2.sortBy(\"age\");\n",
        "SPrint(\"Sort by age: \", array2);\n",
        "\n",
        "SPrint(String(\"-\")*60);\n",
        "SPrint(NEW_LINE);\n",
        "\n",
        "SPrint(String(\"-\")*60);\n",
        "SPrint(\"Dictionary object\");\n",
        "SPrint(String(\"-\")*60);\n",
        "\n",
        "sobj dict1 = {kv(\"key1\", 10), kv(\"key2\", 3.14), kv(\"key3\", \"abc\"), kv(\"key4\", V({\"xyz\", 2.71828, true}))};\n",
        "SPrint(\"dict1 : \", dict1);\n",
        "sobj keys = dict1.keyset();\n",
        "SPrint(\"keys : \", keys);\n",
        "keys.sort();\n",
        "SPrint(\"dict1 (ordered): \");\n",
        "sforeach(keys) SPrint(SPACE, E_, \"=\", dict1[E_]);\n",
        "SPrint(String(\"=\")*60);"
      ],
      "execution_count": null,
      "outputs": []
    },
    {
      "cell_type": "markdown",
      "metadata": {
        "id": "iktA96ErAo4q"
      },
      "source": [
        "# 3. Run the sample\n"
      ]
    },
    {
      "cell_type": "code",
      "metadata": {
        "id": "tjMRUs6lXzK9"
      },
      "source": [
        "import os\n",
        "cppcode='#include \"sobj.h\"\\nusing namespace slib;\\nint main() {\\n'\n",
        "path = './.sample.txt'\n",
        "with open(path) as f:\n",
        "  cppcode+=f.read()\n",
        "cppcode+='\\nreturn 0;\\n}'\n",
        "pathw = './sample.cpp'\n",
        "with open(pathw, mode='w') as fw:\n",
        "  fw.write(cppcode)\n",
        "!g++ -std=c++11 -I/usr/local/include/slib -L/usr/local/lib -O2 -o ./App ./sample.cpp -lsobj -lcurl\n",
        "!./App"
      ],
      "execution_count": null,
      "outputs": []
    },
    {
      "cell_type": "markdown",
      "metadata": {
        "id": "68R1rgzvlqxO"
      },
      "source": [
        "# 4. And more..."
      ]
    },
    {
      "cell_type": "markdown",
      "metadata": {
        "id": "i67r2rQMlunf"
      },
      "source": [
        "## API"
      ]
    }
  ]
}