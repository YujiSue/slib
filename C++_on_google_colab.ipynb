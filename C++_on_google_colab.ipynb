{
  "nbformat": 4,
  "nbformat_minor": 0,
  "metadata": {
    "colab": {
      "name": "C++ on google colab.ipynb",
      "provenance": [],
      "collapsed_sections": [],
      "toc_visible": true,
      "mount_file_id": "1R1bV1GXD0XzRw-5X4AYE_ZaduCM4RgHT",
      "authorship_tag": "ABX9TyMS1hIhK9NNO2g/2WlG3KYa",
      "include_colab_link": true
    },
    "kernelspec": {
      "name": "python3",
      "display_name": "Python 3"
    }
  },
  "cells": [
    {
      "cell_type": "markdown",
      "metadata": {
        "id": "view-in-github",
        "colab_type": "text"
      },
      "source": [
        "<a href=\"https://colab.research.google.com/github/YujiSue/slib/blob/master/C%2B%2B_on_google_colab.ipynb\" target=\"_parent\"><img src=\"https://colab.research.google.com/assets/colab-badge.svg\" alt=\"Open In Colab\"/></a>"
      ]
    },
    {
      "cell_type": "markdown",
      "metadata": {
        "id": "qCr2AZY7OzZF",
        "colab_type": "text"
      },
      "source": [
        "# slib 導入\n"
      ]
    },
    {
      "cell_type": "code",
      "metadata": {
        "id": "tlB_pq-T9Uxq",
        "colab_type": "code",
        "colab": {}
      },
      "source": [
        "!wget https://raw.githubusercontent.com/YujiSue/slib/master/include/sconfig.h\n",
        "!wget https://raw.githubusercontent.com/YujiSue/slib/master/include/sobj.h\n",
        "!wget https://raw.githubusercontent.com/YujiSue/Lemegeton/master/Goetia.h\n",
        "!wget https://raw.githubusercontent.com/YujiSue/Lemegeton/master/Goetia.cpp\n",
        "!g++ -std=c++11 -Wall -O2 -o ./Goetia Goetia.cpp\n",
        "!./Goetia -sO\n",
        "!sudo cp ./sconfig.h /usr/local/include/slib\n",
        "!sudo cp ./sobj.h /usr/local/include/slib"
      ],
      "execution_count": null,
      "outputs": []
    },
    {
      "cell_type": "markdown",
      "metadata": {
        "id": "XEOoPp-s-K_c",
        "colab_type": "text"
      },
      "source": [
        "# 実行"
      ]
    },
    {
      "cell_type": "code",
      "metadata": {
        "id": "p7m5A_ofZ-5e",
        "colab_type": "code",
        "colab": {
          "base_uri": "https://localhost:8080/",
          "height": 35
        },
        "outputId": "be359264-b347-4073-8256-523b89a7c0ec"
      },
      "source": [
        "%%writefile tmp.txt\n",
        "//C++では整数型や実数型は別物\n",
        "//sobjという共通の型で扱える\n",
        "sobj num1 = 10;\n",
        "sobj num2 = 2.5;\n",
        "sobj num3 = \"1/2\"; //分数にも対応\n",
        "sobj num4 = \"1+1i\"; //複素数にも対応\n",
        "\n",
        "//四則計算も可能\n",
        "std::cout<<o1*o2<<std::endl;\n",
        "std::cout<<o1*o2<<std::endl;\n",
        "\n",
        "//文字列操作\n",
        "sobj o3 = \"abd\";\n",
        "sobj o4 = \"efg\";\n",
        "std::cout<<o3+o4<<std::endl;"
      ],
      "execution_count": 53,
      "outputs": [
        {
          "output_type": "stream",
          "text": [
            "Overwriting tmp.txt\n"
          ],
          "name": "stdout"
        }
      ]
    },
    {
      "cell_type": "code",
      "metadata": {
        "id": "tjMRUs6lXzK9",
        "colab_type": "code",
        "colab": {}
      },
      "source": [
        "#Pythonから呼び出し・実行\n",
        "import os\n",
        "os.environ['PATH'] += ':/usr/local/lib' \n",
        "os.environ['LD_LIBRARY_PATH'] += ':/usr/local/lib'\n",
        "cppcode='#include \"sobj.h\"\\nusing namespace slib;\\nint main() {\\n'\n",
        "path = './tmp.txt'\n",
        "f = open(path) \n",
        "cppcode+=f.read()\n",
        "cppcode+='return 0;\\n}'\n",
        "pathw = './tmp.cpp'\n",
        "fw = open(pathw, 'w')\n",
        "fw.write(cppcode)\n",
        "os.system('g++ -std=c++11 -I/usr/local/include/slib -L/usr/local/lib -O2 -o ./App tmp.cpp -lsobj -lcurl ')\n",
        "print(os.popen('./App').read())"
      ],
      "execution_count": null,
      "outputs": []
    }
  ]
}